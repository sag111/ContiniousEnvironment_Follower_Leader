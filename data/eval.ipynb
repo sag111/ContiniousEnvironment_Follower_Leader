{
 "cells": [
  {
   "cell_type": "code",
   "execution_count": 14,
   "id": "8f1149ea",
   "metadata": {
    "ExecuteTime": {
     "end_time": "2024-02-21T09:48:10.068624Z",
     "start_time": "2024-02-21T09:48:10.062006Z"
    }
   },
   "outputs": [],
   "source": [
    "import json\n",
    "import numpy as np\n",
    "import pandas as pd"
   ]
  },
  {
   "cell_type": "code",
   "execution_count": 37,
   "id": "cc676c70",
   "metadata": {
    "ExecuteTime": {
     "end_time": "2024-02-21T10:48:22.772767Z",
     "start_time": "2024-02-21T10:48:22.753932Z"
    }
   },
   "outputs": [
    {
     "name": "stdout",
     "output_type": "stream",
     "text": [
      "Среднее число динамических объектов внутри сенсора 2: 125.0\n",
      "Среднее число шагов за маршрут: 166.0\n",
      "Среднее число динамических объектов за шаг внутри сенсора 2: 0.7530120481927711\n"
     ]
    }
   ],
   "source": [
    "data = pd.read_csv(\"/home/elnmax/arctic_build/continuous-grid-arctic/data/processed/2024-02-21-sheri33/2024-02-21|13:46_eval_v2.csv\", sep=';')\n",
    "\n",
    "\n",
    "all_states = []\n",
    "for st in data[\"dynamic_states\"]:\n",
    "    \n",
    "    states = 0\n",
    "    for i in np.array(json.loads(st)).flatten():\n",
    "        if i:\n",
    "            states += 1\n",
    "    \n",
    "    all_states.append(states)\n",
    "\n",
    "mean_dynamic_in_range = sum(all_states) / len(all_states)\n",
    "\n",
    "\n",
    "all_steps = []\n",
    "for st in data[\"meta\"]:\n",
    "    d = json.loads(st.replace(\"'\", '\"'))\n",
    "    \n",
    "    all_steps.append(d[\"step_count\"])\n",
    "    \n",
    "mean_step_per_route = sum(all_steps) / len(all_steps)\n",
    "\n",
    "print(\"Среднее число динамических объектов внутри сенсора 2: {}\".format(mean_dynamic_in_range))\n",
    "print(\"Среднее число шагов за маршрут: {}\".format(mean_step_per_route))\n",
    "print(\"Среднее число динамических объектов за шаг внутри сенсора 2: {}\".format(mean_dynamic_in_range / mean_step_per_route))"
   ]
  },
  {
   "cell_type": "code",
   "execution_count": 2,
   "id": "83ac3f0f",
   "metadata": {
    "ExecuteTime": {
     "end_time": "2024-02-21T09:27:08.869017Z",
     "start_time": "2024-02-21T09:27:08.863086Z"
    }
   },
   "outputs": [],
   "source": [
    "def success_rate(csv: pd.DataFrame) -> float:\n",
    "    \"\"\"\n",
    "    Считает success rate для маршрутов из файла csv\n",
    "    Для вычисления используется колонка 'meta', которая содержит словарь со статусом выполения маршрута\n",
    "    \n",
    "    :param csv: DataFrame с информацией о маршрутах\n",
    "    \n",
    "    :return:\n",
    "        Относительная величина успешно выполненных маршрутов\n",
    "    \"\"\"\n",
    "    data = csv['meta']\n",
    "    \n",
    "    success = 0\n",
    "    for i in data:\n",
    "        meta = json.loads(i.replace(\"'\", '\"'))\n",
    "        \n",
    "        if meta['mission_status'] == 'success':\n",
    "            success += 1\n",
    "    \n",
    "    return success / len(data)"
   ]
  },
  {
   "cell_type": "markdown",
   "id": "e4dd6073",
   "metadata": {},
   "source": [
    "## Новые маршруты с пешеходами (трансформер)"
   ]
  },
  {
   "cell_type": "code",
   "execution_count": 4,
   "id": "aeb2acaa",
   "metadata": {
    "ExecuteTime": {
     "end_time": "2024-02-21T09:27:49.507064Z",
     "start_time": "2024-02-21T09:27:49.145247Z"
    }
   },
   "outputs": [
    {
     "data": {
      "text/plain": [
       "[0.5, 0.68]"
      ]
     },
     "execution_count": 4,
     "metadata": {},
     "output_type": "execute_result"
    }
   ],
   "source": [
    "paths = [\n",
    "    \"/home/elnmax/arctic_build/continuous-grid-arctic/data/processed/2024-02-14|18:11_eval_v2.csv\",\n",
    "    \"/home/elnmax/arctic_build/continuous-grid-arctic/data/processed/2024-02-14|16:15_eval_v2.csv\"\n",
    "]\n",
    "\n",
    "srs = []\n",
    "for p in paths:\n",
    "    data = pd.read_csv(p, sep=\";\")\n",
    "    \n",
    "    sr = success_rate(data)\n",
    "    srs.append(sr)\n",
    "    \n",
    "srs"
   ]
  },
  {
   "cell_type": "code",
   "execution_count": 26,
   "id": "619ed67b",
   "metadata": {
    "ExecuteTime": {
     "end_time": "2024-02-21T09:54:07.574000Z",
     "start_time": "2024-02-21T09:54:07.519430Z"
    }
   },
   "outputs": [
    {
     "data": {
      "text/plain": [
       "[0.58]"
      ]
     },
     "execution_count": 26,
     "metadata": {},
     "output_type": "execute_result"
    }
   ],
   "source": [
    "paths = [\n",
    "    \"/home/elnmax/arctic_build/continuous-grid-arctic/data/processed/2024-02-19|17:25_eval_v2.csv\",\n",
    "]\n",
    "\n",
    "srs = []\n",
    "for p in paths:\n",
    "    data = pd.read_csv(p, sep=\";\")\n",
    "    \n",
    "    sr = success_rate(data)\n",
    "    srs.append(sr)\n",
    "    \n",
    "srs"
   ]
  },
  {
   "cell_type": "markdown",
   "id": "2eb86ec1",
   "metadata": {},
   "source": [
    "## Простые маршруты без динамических препятствий"
   ]
  },
  {
   "cell_type": "code",
   "execution_count": 51,
   "id": "71885dc7",
   "metadata": {
    "ExecuteTime": {
     "end_time": "2023-08-08T14:56:14.313672Z",
     "start_time": "2023-08-08T14:56:14.099129Z"
    }
   },
   "outputs": [
    {
     "data": {
      "text/plain": [
       "0.86"
      ]
     },
     "execution_count": 51,
     "metadata": {},
     "output_type": "execute_result"
    }
   ],
   "source": [
    "easy_path = \"processed/2023-08-08|13:16_gazebo_eval_easy.csv\"\n",
    "easy_data = pd.read_csv(easy_path, sep=';')\n",
    "\n",
    "# Количество успешно пройденных маршрутов\n",
    "success_rate(easy_data)"
   ]
  },
  {
   "cell_type": "markdown",
   "id": "b6e2888a",
   "metadata": {},
   "source": [
    "## Сложные маршруты без динамических препятствий"
   ]
  },
  {
   "cell_type": "code",
   "execution_count": 53,
   "id": "5bf9d5cb",
   "metadata": {
    "ExecuteTime": {
     "end_time": "2023-08-08T14:57:05.610700Z",
     "start_time": "2023-08-08T14:57:05.435415Z"
    }
   },
   "outputs": [
    {
     "data": {
      "text/plain": [
       "0.06818181818181818"
      ]
     },
     "execution_count": 53,
     "metadata": {},
     "output_type": "execute_result"
    }
   ],
   "source": [
    "hard_path = \"processed/2023-08-07|17:47_gazebo_eval_hard.csv\"\n",
    "hard_data = pd.read_csv(hard_path, sep=';')\n",
    "\n",
    "# Количество успешно пройденных маршрутов\n",
    "success_rate(hard_data)"
   ]
  },
  {
   "cell_type": "code",
   "execution_count": null,
   "id": "1de3c525",
   "metadata": {},
   "outputs": [],
   "source": []
  }
 ],
 "metadata": {
  "kernelspec": {
   "display_name": "Python 3 (ipykernel)",
   "language": "python",
   "name": "python3"
  },
  "language_info": {
   "codemirror_mode": {
    "name": "ipython",
    "version": 3
   },
   "file_extension": ".py",
   "mimetype": "text/x-python",
   "name": "python",
   "nbconvert_exporter": "python",
   "pygments_lexer": "ipython3",
   "version": "3.9.13"
  }
 },
 "nbformat": 4,
 "nbformat_minor": 5
}
