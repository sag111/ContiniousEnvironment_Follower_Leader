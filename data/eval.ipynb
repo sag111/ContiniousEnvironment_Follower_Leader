{
 "cells": [
  {
   "cell_type": "code",
   "execution_count": 1,
   "id": "8f1149ea",
   "metadata": {
    "ExecuteTime": {
     "end_time": "2024-02-19T13:46:12.950573Z",
     "start_time": "2024-02-19T13:46:08.083792Z"
    }
   },
   "outputs": [],
   "source": [
    "import json\n",
    "import pandas as pd"
   ]
  },
  {
   "cell_type": "code",
   "execution_count": 13,
   "id": "cc676c70",
   "metadata": {
    "ExecuteTime": {
     "end_time": "2024-02-19T14:11:53.086625Z",
     "start_time": "2024-02-19T14:11:53.057408Z"
    }
   },
   "outputs": [
    {
     "data": {
      "text/plain": [
       "0     {'mission_status': 'success', 'agent_status': ...\n",
       "1     {'mission_status': 'success', 'agent_status': ...\n",
       "2     {'mission_status': 'success', 'agent_status': ...\n",
       "3     {'mission_status': 'success', 'agent_status': ...\n",
       "4     {'mission_status': 'fail', 'agent_status': 'co...\n",
       "5     {'mission_status': 'fail', 'agent_status': 'co...\n",
       "6     {'mission_status': 'success', 'agent_status': ...\n",
       "7     {'mission_status': 'success', 'agent_status': ...\n",
       "8     {'mission_status': 'success', 'agent_status': ...\n",
       "9     {'mission_status': 'success', 'agent_status': ...\n",
       "10    {'mission_status': 'finished_by_time', 'agent_...\n",
       "11    {'mission_status': 'success', 'agent_status': ...\n",
       "Name: meta, dtype: object"
      ]
     },
     "execution_count": 13,
     "metadata": {},
     "output_type": "execute_result"
    }
   ],
   "source": [
    "data = pd.read_csv(\"/home/elnmax/arctic_build/continuous-grid-arctic/data/processed/2024-02-19|16:49_eval_v2.csv\", sep=';')\n",
    "\n",
    "for m in data[\"meta\"]:\n",
    "    print()"
   ]
  },
  {
   "cell_type": "code",
   "execution_count": 2,
   "id": "83ac3f0f",
   "metadata": {
    "ExecuteTime": {
     "end_time": "2024-02-19T09:38:25.956789Z",
     "start_time": "2024-02-19T09:38:25.943597Z"
    }
   },
   "outputs": [],
   "source": [
    "def success_rate(csv: pd.DataFrame) -> float:\n",
    "    \"\"\"\n",
    "    Считает success rate для маршрутов из файла csv\n",
    "    Для вычисления используется колонка 'meta', которая содержит словарь со статусом выполения маршрута\n",
    "    \n",
    "    :param csv: DataFrame с информацией о маршрутах\n",
    "    \n",
    "    :return:\n",
    "        Относительная величина успешно выполненных маршрутов\n",
    "    \"\"\"\n",
    "    data = csv['meta']\n",
    "    \n",
    "    success = 0\n",
    "    for i in data:\n",
    "        meta = json.loads(i.replace(\"'\", '\"'))\n",
    "        \n",
    "        if meta['mission_status'] == 'success':\n",
    "            success += 1\n",
    "    \n",
    "    return success / len(data)"
   ]
  },
  {
   "cell_type": "markdown",
   "id": "e4dd6073",
   "metadata": {},
   "source": [
    "## Новые маршруты с пешеходами (трансформер)"
   ]
  },
  {
   "cell_type": "code",
   "execution_count": 4,
   "id": "aeb2acaa",
   "metadata": {
    "ExecuteTime": {
     "end_time": "2024-02-19T11:09:42.665886Z",
     "start_time": "2024-02-19T11:09:42.455462Z"
    }
   },
   "outputs": [
    {
     "data": {
      "text/plain": [
       "[0.68, 0.5, 0.56, 0.52, 0.6, 0.48]"
      ]
     },
     "execution_count": 4,
     "metadata": {},
     "output_type": "execute_result"
    }
   ],
   "source": [
    "paths = [\n",
    "    \"/home/elnmax/arctic_build/continuous-grid-arctic/data/processed/2024-02-14|16:15_eval_v2.csv\",\n",
    "    \"/home/elnmax/arctic_build/continuous-grid-arctic/data/processed/2024-02-14|18:11_eval_v2.csv\",\n",
    "    \"/home/elnmax/arctic_build/continuous-grid-arctic/data/processed/2024-02-15|14:09_eval_v2.csv\",\n",
    "    \"/home/elnmax/arctic_build/continuous-grid-arctic/data/processed/2024-02-15|16:17_eval_v2.csv\",\n",
    "    \"/home/elnmax/arctic_build/continuous-grid-arctic/data/processed/2024-02-16|17:52_eval_v2.csv\",\n",
    "    \"/home/elnmax/arctic_build/continuous-grid-arctic/data/processed/2024-02-19|12:40_eval_v2.csv\"\n",
    "    \n",
    "]\n",
    "\n",
    "srs = []\n",
    "for p in paths:\n",
    "    data = pd.read_csv(p, sep=\";\")\n",
    "    \n",
    "    sr = success_rate(data)\n",
    "    srs.append(sr)\n",
    "    \n",
    "srs"
   ]
  },
  {
   "cell_type": "markdown",
   "id": "2eb86ec1",
   "metadata": {},
   "source": [
    "## Простые маршруты без динамических препятствий"
   ]
  },
  {
   "cell_type": "code",
   "execution_count": 51,
   "id": "71885dc7",
   "metadata": {
    "ExecuteTime": {
     "end_time": "2023-08-08T14:56:14.313672Z",
     "start_time": "2023-08-08T14:56:14.099129Z"
    }
   },
   "outputs": [
    {
     "data": {
      "text/plain": [
       "0.86"
      ]
     },
     "execution_count": 51,
     "metadata": {},
     "output_type": "execute_result"
    }
   ],
   "source": [
    "easy_path = \"processed/2023-08-08|13:16_gazebo_eval_easy.csv\"\n",
    "easy_data = pd.read_csv(easy_path, sep=';')\n",
    "\n",
    "# Количество успешно пройденных маршрутов\n",
    "success_rate(easy_data)"
   ]
  },
  {
   "cell_type": "markdown",
   "id": "b6e2888a",
   "metadata": {},
   "source": [
    "## Сложные маршруты без динамических препятствий"
   ]
  },
  {
   "cell_type": "code",
   "execution_count": 53,
   "id": "5bf9d5cb",
   "metadata": {
    "ExecuteTime": {
     "end_time": "2023-08-08T14:57:05.610700Z",
     "start_time": "2023-08-08T14:57:05.435415Z"
    }
   },
   "outputs": [
    {
     "data": {
      "text/plain": [
       "0.06818181818181818"
      ]
     },
     "execution_count": 53,
     "metadata": {},
     "output_type": "execute_result"
    }
   ],
   "source": [
    "hard_path = \"processed/2023-08-07|17:47_gazebo_eval_hard.csv\"\n",
    "hard_data = pd.read_csv(hard_path, sep=';')\n",
    "\n",
    "# Количество успешно пройденных маршрутов\n",
    "success_rate(hard_data)"
   ]
  },
  {
   "cell_type": "code",
   "execution_count": null,
   "id": "1de3c525",
   "metadata": {},
   "outputs": [],
   "source": []
  }
 ],
 "metadata": {
  "kernelspec": {
   "display_name": "Python 3 (ipykernel)",
   "language": "python",
   "name": "python3"
  },
  "language_info": {
   "codemirror_mode": {
    "name": "ipython",
    "version": 3
   },
   "file_extension": ".py",
   "mimetype": "text/x-python",
   "name": "python",
   "nbconvert_exporter": "python",
   "pygments_lexer": "ipython3",
   "version": "3.9.13"
  }
 },
 "nbformat": 4,
 "nbformat_minor": 5
}
