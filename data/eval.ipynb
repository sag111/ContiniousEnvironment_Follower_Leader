{
 "cells": [
  {
   "cell_type": "code",
   "execution_count": 49,
   "id": "8f1149ea",
   "metadata": {
    "ExecuteTime": {
     "end_time": "2023-08-08T14:56:09.492341Z",
     "start_time": "2023-08-08T14:56:09.490367Z"
    }
   },
   "outputs": [],
   "source": [
    "import json\n",
    "import pandas as pd"
   ]
  },
  {
   "cell_type": "code",
   "execution_count": 50,
   "id": "83ac3f0f",
   "metadata": {
    "ExecuteTime": {
     "end_time": "2023-08-08T14:56:09.888449Z",
     "start_time": "2023-08-08T14:56:09.882802Z"
    }
   },
   "outputs": [],
   "source": [
    "def success_rate(csv: pd.DataFrame) -> float:\n",
    "    \"\"\"\n",
    "    Считает success rate для маршрутов из файла csv\n",
    "    Для вычисления используется колонка 'meta', которая содержит словарь со статусом выполения маршрута\n",
    "    \n",
    "    :param csv: DataFrame с информацией о маршрутах\n",
    "    \n",
    "    :return:\n",
    "        Относительная величина успешно выполненных маршрутов\n",
    "    \"\"\"\n",
    "    data = csv['meta']\n",
    "    \n",
    "    success = 0\n",
    "    for i in data:\n",
    "        meta = json.loads(i.replace(\"'\", '\"'))\n",
    "        \n",
    "        if meta['mission_status'] == 'success':\n",
    "            success += 1\n",
    "    \n",
    "    return success / len(data)"
   ]
  },
  {
   "cell_type": "markdown",
   "id": "2eb86ec1",
   "metadata": {},
   "source": [
    "## Простые маршруты без динамических препятствий"
   ]
  },
  {
   "cell_type": "code",
   "execution_count": 51,
   "id": "71885dc7",
   "metadata": {
    "ExecuteTime": {
     "end_time": "2023-08-08T14:56:14.313672Z",
     "start_time": "2023-08-08T14:56:14.099129Z"
    }
   },
   "outputs": [
    {
     "data": {
      "text/plain": [
       "0.86"
      ]
     },
     "execution_count": 51,
     "metadata": {},
     "output_type": "execute_result"
    }
   ],
   "source": [
    "easy_path = \"processed/2023-08-08|13:16_gazebo_eval_easy.csv\"\n",
    "easy_data = pd.read_csv(easy_path, sep=';')\n",
    "\n",
    "# Количество успешно пройденных маршрутов\n",
    "success_rate(easy_data)"
   ]
  },
  {
   "cell_type": "markdown",
   "id": "b6e2888a",
   "metadata": {},
   "source": [
    "## Сложные маршруты без динамических препятствий"
   ]
  },
  {
   "cell_type": "code",
   "execution_count": 53,
   "id": "5bf9d5cb",
   "metadata": {
    "ExecuteTime": {
     "end_time": "2023-08-08T14:57:05.610700Z",
     "start_time": "2023-08-08T14:57:05.435415Z"
    }
   },
   "outputs": [
    {
     "data": {
      "text/plain": [
       "0.06818181818181818"
      ]
     },
     "execution_count": 53,
     "metadata": {},
     "output_type": "execute_result"
    }
   ],
   "source": [
    "hard_path = \"processed/2023-08-07|17:47_gazebo_eval_hard.csv\"\n",
    "hard_data = pd.read_csv(hard_path, sep=';')\n",
    "\n",
    "# Количество успешно пройденных маршрутов\n",
    "success_rate(hard_data)"
   ]
  },
  {
   "cell_type": "code",
   "execution_count": null,
   "id": "1de3c525",
   "metadata": {},
   "outputs": [],
   "source": []
  }
 ],
 "metadata": {
  "kernelspec": {
   "display_name": "Python 3 (ipykernel)",
   "language": "python",
   "name": "python3"
  },
  "language_info": {
   "codemirror_mode": {
    "name": "ipython",
    "version": 3
   },
   "file_extension": ".py",
   "mimetype": "text/x-python",
   "name": "python",
   "nbconvert_exporter": "python",
   "pygments_lexer": "ipython3",
   "version": "3.9.13"
  }
 },
 "nbformat": 4,
 "nbformat_minor": 5
}
